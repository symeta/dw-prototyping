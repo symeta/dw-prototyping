{
 "cells": [
  {
   "cell_type": "code",
   "execution_count": 1,
   "id": "b32b491f-f957-4043-b1a2-8aee09cd1744",
   "metadata": {
    "execution": {
     "iopub.execute_input": "2023-12-12T10:00:12.001934Z",
     "iopub.status.busy": "2023-12-12T10:00:12.001477Z",
     "iopub.status.idle": "2023-12-12T10:00:32.789954Z",
     "shell.execute_reply": "2023-12-12T10:00:32.789198Z",
     "shell.execute_reply.started": "2023-12-12T10:00:12.001877Z"
    },
    "tags": []
   },
   "outputs": [
    {
     "data": {
      "application/vnd.jupyter.widget-view+json": {
       "model_id": "b17e4a2f1785478f886bbfa5f616f04a",
       "version_major": 2,
       "version_minor": 0
      },
      "text/plain": [
       "VBox()"
      ]
     },
     "metadata": {},
     "output_type": "display_data"
    },
    {
     "name": "stdout",
     "output_type": "stream",
     "text": [
      "Starting Spark application\n"
     ]
    },
    {
     "data": {
      "text/html": [
       "<table>\n",
       "    <tr><th>ID</th><th>Kind</th><th>State</th><th>Spark UI</th><th>Driver log</th><th>User</th><th>Current session?</th></tr><tr><td>0</td><td>pyspark</td><td>idle</td><td><a target=\"_blank\" href=\"https://spark-live-ui.emr-serverless.amazonaws.com\" class=\"emr-proxy-link\" emr-runtime=\"emr-serverless\" emr-resource=\"00ffejaf7fjih10a\" application-id=\"00ff1hfdtvbqjm09\">Link</a></td><td></td><td>None</td><td>✔</td></tr></table>"
      ],
      "text/plain": [
       "<IPython.core.display.HTML object>"
      ]
     },
     "metadata": {},
     "output_type": "display_data"
    },
    {
     "data": {
      "application/vnd.jupyter.widget-view+json": {
       "model_id": "",
       "version_major": 2,
       "version_minor": 0
      },
      "text/plain": [
       "FloatProgress(value=0.0, bar_style='info', description='Progress:', layout=Layout(height='25px', width='50%'),…"
      ]
     },
     "metadata": {},
     "output_type": "display_data"
    },
    {
     "name": "stdout",
     "output_type": "stream",
     "text": [
      "SparkSession available as 'spark'.\n"
     ]
    },
    {
     "data": {
      "application/vnd.jupyter.widget-view+json": {
       "model_id": "",
       "version_major": 2,
       "version_minor": 0
      },
      "text/plain": [
       "FloatProgress(value=0.0, bar_style='info', description='Progress:', layout=Layout(height='25px', width='50%'),…"
      ]
     },
     "metadata": {},
     "output_type": "display_data"
    },
    {
     "name": "stdout",
     "output_type": "stream",
     "text": [
      "+--------------------+\n",
      "|           namespace|\n",
      "+--------------------+\n",
      "|athenacurcfn_aws_...|\n",
      "|             default|\n",
      "|        `flink-test`|\n",
      "|     `spark-demo-db`|\n",
      "|      sparktestnov23|\n",
      "+--------------------+"
     ]
    }
   ],
   "source": [
    "spark.sql(\"show databases\").show()"
   ]
  },
  {
   "cell_type": "code",
   "execution_count": 2,
   "id": "3b31cf2f-81dd-4d18-a159-c6f5950ef624",
   "metadata": {
    "execution": {
     "iopub.execute_input": "2023-12-12T10:00:37.403554Z",
     "iopub.status.busy": "2023-12-12T10:00:37.403100Z",
     "iopub.status.idle": "2023-12-12T10:02:16.484127Z",
     "shell.execute_reply": "2023-12-12T10:02:16.483488Z",
     "shell.execute_reply.started": "2023-12-12T10:00:37.403511Z"
    },
    "tags": []
   },
   "outputs": [
    {
     "name": "stdout",
     "output_type": "stream",
     "text": [
      "Starting Spark application\n"
     ]
    },
    {
     "data": {
      "text/html": [
       "<table>\n",
       "    <tr><th>ID</th><th>Kind</th><th>State</th><th>Spark UI</th><th>Driver log</th><th>User</th><th>Current session?</th></tr><tr><td>1</td><td>pyspark</td><td>idle</td><td><a target=\"_blank\" href=\"https://spark-live-ui.emr-serverless.amazonaws.com\" class=\"emr-proxy-link\" emr-runtime=\"emr-serverless\" emr-resource=\"00ffejaf7fjih10a\" application-id=\"00ff1hfdtvbqjm09\">Link</a></td><td></td><td>None</td><td>✔</td></tr></table>"
      ],
      "text/plain": [
       "<IPython.core.display.HTML object>"
      ]
     },
     "metadata": {},
     "output_type": "display_data"
    },
    {
     "data": {
      "application/vnd.jupyter.widget-view+json": {
       "model_id": "",
       "version_major": 2,
       "version_minor": 0
      },
      "text/plain": [
       "FloatProgress(value=0.0, bar_style='info', description='Progress:', layout=Layout(height='25px', width='50%'),…"
      ]
     },
     "metadata": {},
     "output_type": "display_data"
    },
    {
     "name": "stdout",
     "output_type": "stream",
     "text": [
      "SparkSession available as 'spark'.\n"
     ]
    },
    {
     "data": {
      "text/html": [
       "Current session configs: <tt>{'conf': {'spark.jars': 's3://spark-sql-test-nov23rd/mysql-connector-j-8.2.0.jar'}, 'driverMemory': '14G', 'driverCores': 4, 'executorMemory': '14G', 'executorCores': 4, 'numExecutors': 3, 'proxyUser': 'user_shiyang0817', 'kind': 'pyspark'}</tt><br>"
      ],
      "text/plain": [
       "<IPython.core.display.HTML object>"
      ]
     },
     "metadata": {},
     "output_type": "display_data"
    },
    {
     "data": {
      "text/html": [
       "<table>\n",
       "    <tr><th>ID</th><th>Kind</th><th>State</th><th>Spark UI</th><th>Driver log</th><th>User</th><th>Current session?</th></tr><tr><td>1</td><td>pyspark</td><td>idle</td><td><a target=\"_blank\" href=\"https://spark-live-ui.emr-serverless.amazonaws.com\" class=\"emr-proxy-link\" emr-runtime=\"emr-serverless\" emr-resource=\"00ffejaf7fjih10a\" application-id=\"00ff1hfdtvbqjm09\">Link</a></td><td></td><td>None</td><td>✔</td></tr></table>"
      ],
      "text/plain": [
       "<IPython.core.display.HTML object>"
      ]
     },
     "metadata": {},
     "output_type": "display_data"
    }
   ],
   "source": [
    "%%configure -f\n",
    "{\"conf\": {\n",
    "    \"spark.jars\": \"s3://spark-sql-test-nov23rd/mysql-connector-j-8.2.0.jar\"\n",
    "    }\n",
    "}"
   ]
  },
  {
   "cell_type": "code",
   "execution_count": 3,
   "id": "8605c9ff-fb4c-4dbb-96a1-25e83b6c1a72",
   "metadata": {
    "execution": {
     "iopub.execute_input": "2023-12-12T10:02:21.446410Z",
     "iopub.status.busy": "2023-12-12T10:02:21.445951Z",
     "iopub.status.idle": "2023-12-12T10:02:28.585486Z",
     "shell.execute_reply": "2023-12-12T10:02:28.584735Z",
     "shell.execute_reply.started": "2023-12-12T10:02:21.446378Z"
    },
    "tags": []
   },
   "outputs": [
    {
     "data": {
      "application/vnd.jupyter.widget-view+json": {
       "model_id": "5face4275a384eb9a065099decc763b6",
       "version_major": 2,
       "version_minor": 0
      },
      "text/plain": [
       "VBox()"
      ]
     },
     "metadata": {},
     "output_type": "display_data"
    },
    {
     "data": {
      "application/vnd.jupyter.widget-view+json": {
       "model_id": "",
       "version_major": 2,
       "version_minor": 0
      },
      "text/plain": [
       "FloatProgress(value=0.0, bar_style='info', description='Progress:', layout=Layout(height='25px', width='50%'),…"
      ]
     },
     "metadata": {},
     "output_type": "display_data"
    },
    {
     "name": "stdout",
     "output_type": "stream",
     "text": [
      "++\n",
      "||\n",
      "++\n",
      "++"
     ]
    }
   ],
   "source": [
    "spark.sql(\"use default\").show()"
   ]
  },
  {
   "cell_type": "code",
   "execution_count": 4,
   "id": "4d6ac6bf-b952-4296-9270-dfcb841889d7",
   "metadata": {
    "execution": {
     "iopub.execute_input": "2023-12-12T10:02:31.400959Z",
     "iopub.status.busy": "2023-12-12T10:02:31.400534Z",
     "iopub.status.idle": "2023-12-12T10:02:36.840965Z",
     "shell.execute_reply": "2023-12-12T10:02:36.840299Z",
     "shell.execute_reply.started": "2023-12-12T10:02:31.400925Z"
    },
    "tags": []
   },
   "outputs": [
    {
     "data": {
      "application/vnd.jupyter.widget-view+json": {
       "model_id": "b84929873c514564b34a45fab00d1c25",
       "version_major": 2,
       "version_minor": 0
      },
      "text/plain": [
       "VBox()"
      ]
     },
     "metadata": {},
     "output_type": "display_data"
    },
    {
     "data": {
      "application/vnd.jupyter.widget-view+json": {
       "model_id": "",
       "version_major": 2,
       "version_minor": 0
      },
      "text/plain": [
       "FloatProgress(value=0.0, bar_style='info', description='Progress:', layout=Layout(height='25px', width='50%'),…"
      ]
     },
     "metadata": {},
     "output_type": "display_data"
    },
    {
     "name": "stdout",
     "output_type": "stream",
     "text": [
      "+---------+----------+-----------+\n",
      "|namespace| tableName|isTemporary|\n",
      "+---------+----------+-----------+\n",
      "|  default| testspark|      false|\n",
      "|  default|testspark2|      false|\n",
      "+---------+----------+-----------+"
     ]
    }
   ],
   "source": [
    "spark.sql(\"show tables\").show()"
   ]
  },
  {
   "cell_type": "code",
   "execution_count": 5,
   "id": "7dada621-652e-4ffa-bdda-1310918c0d8d",
   "metadata": {
    "execution": {
     "iopub.execute_input": "2023-12-12T10:02:40.683497Z",
     "iopub.status.busy": "2023-12-12T10:02:40.683094Z",
     "iopub.status.idle": "2023-12-12T10:02:46.080832Z",
     "shell.execute_reply": "2023-12-12T10:02:46.080177Z",
     "shell.execute_reply.started": "2023-12-12T10:02:40.683466Z"
    },
    "tags": []
   },
   "outputs": [
    {
     "data": {
      "application/vnd.jupyter.widget-view+json": {
       "model_id": "7e7a63bbfb584167869271f91266af69",
       "version_major": 2,
       "version_minor": 0
      },
      "text/plain": [
       "VBox()"
      ]
     },
     "metadata": {},
     "output_type": "display_data"
    },
    {
     "data": {
      "application/vnd.jupyter.widget-view+json": {
       "model_id": "",
       "version_major": 2,
       "version_minor": 0
      },
      "text/plain": [
       "FloatProgress(value=0.0, bar_style='info', description='Progress:', layout=Layout(height='25px', width='50%'),…"
      ]
     },
     "metadata": {},
     "output_type": "display_data"
    },
    {
     "name": "stdout",
     "output_type": "stream",
     "text": [
      "+---+\n",
      "| id|\n",
      "+---+\n",
      "|  1|\n",
      "|  1|\n",
      "+---+"
     ]
    }
   ],
   "source": [
    "spark.sql(\"select * from testspark\").show()"
   ]
  },
  {
   "cell_type": "code",
   "execution_count": 6,
   "id": "cd5bf958-844f-4a51-ae0b-a88a03925101",
   "metadata": {
    "execution": {
     "iopub.execute_input": "2023-12-12T10:02:49.260185Z",
     "iopub.status.busy": "2023-12-12T10:02:49.259745Z",
     "iopub.status.idle": "2023-12-12T10:02:50.124303Z",
     "shell.execute_reply": "2023-12-12T10:02:50.123556Z",
     "shell.execute_reply.started": "2023-12-12T10:02:49.260154Z"
    },
    "tags": []
   },
   "outputs": [
    {
     "data": {
      "application/vnd.jupyter.widget-view+json": {
       "model_id": "aabdc4e0a3b048d5b396e2d0868ea4f5",
       "version_major": 2,
       "version_minor": 0
      },
      "text/plain": [
       "VBox()"
      ]
     },
     "metadata": {},
     "output_type": "display_data"
    },
    {
     "data": {
      "application/vnd.jupyter.widget-view+json": {
       "model_id": "",
       "version_major": 2,
       "version_minor": 0
      },
      "text/plain": [
       "FloatProgress(value=0.0, bar_style='info', description='Progress:', layout=Layout(height='25px', width='50%'),…"
      ]
     },
     "metadata": {},
     "output_type": "display_data"
    }
   ],
   "source": [
    "df=spark.sql(\"select * from testspark\")"
   ]
  },
  {
   "cell_type": "code",
   "execution_count": 7,
   "id": "06eadd46-2c53-402e-8a25-3018e5fe00d7",
   "metadata": {
    "execution": {
     "iopub.execute_input": "2023-12-12T10:02:55.402099Z",
     "iopub.status.busy": "2023-12-12T10:02:55.401635Z",
     "iopub.status.idle": "2023-12-12T10:02:56.269616Z",
     "shell.execute_reply": "2023-12-12T10:02:56.268941Z",
     "shell.execute_reply.started": "2023-12-12T10:02:55.402067Z"
    },
    "tags": []
   },
   "outputs": [
    {
     "data": {
      "application/vnd.jupyter.widget-view+json": {
       "model_id": "8b6a4e2e70c24000a8b1ef21444119f1",
       "version_major": 2,
       "version_minor": 0
      },
      "text/plain": [
       "VBox()"
      ]
     },
     "metadata": {},
     "output_type": "display_data"
    },
    {
     "data": {
      "application/vnd.jupyter.widget-view+json": {
       "model_id": "",
       "version_major": 2,
       "version_minor": 0
      },
      "text/plain": [
       "FloatProgress(value=0.0, bar_style='info', description='Progress:', layout=Layout(height='25px', width='50%'),…"
      ]
     },
     "metadata": {},
     "output_type": "display_data"
    },
    {
     "name": "stdout",
     "output_type": "stream",
     "text": [
      "+---+\n",
      "| id|\n",
      "+---+\n",
      "|  1|\n",
      "|  1|\n",
      "+---+"
     ]
    }
   ],
   "source": [
    "df.show()"
   ]
  },
  {
   "cell_type": "code",
   "execution_count": 6,
   "id": "8a688f45-e669-4778-99b0-208d774e9923",
   "metadata": {
    "execution": {
     "iopub.execute_input": "2023-12-12T04:35:35.288295Z",
     "iopub.status.busy": "2023-12-12T04:35:35.287852Z",
     "iopub.status.idle": "2023-12-12T04:35:35.451357Z",
     "shell.execute_reply": "2023-12-12T04:35:35.450653Z",
     "shell.execute_reply.started": "2023-12-12T04:35:35.288265Z"
    }
   },
   "outputs": [
    {
     "data": {
      "application/vnd.jupyter.widget-view+json": {
       "model_id": "f10e84dcceeb41f5baffb89cea151977",
       "version_major": 2,
       "version_minor": 0
      },
      "text/plain": [
       "VBox()"
      ]
     },
     "metadata": {},
     "output_type": "display_data"
    },
    {
     "data": {
      "application/vnd.jupyter.widget-view+json": {
       "model_id": "",
       "version_major": 2,
       "version_minor": 0
      },
      "text/plain": [
       "FloatProgress(value=0.0, bar_style='info', description='Progress:', layout=Layout(height='25px', width='50%'),…"
      ]
     },
     "metadata": {},
     "output_type": "display_data"
    }
   ],
   "source": [
    "connection_mysql8_options_target_emp_dept = {\n",
    "    \"url\": \"jdbc:mysql://gateway01.ap-southeast-1.prod.aws.tidbcloud.com:4000/test\",\n",
    "    \"dbtable\": \"testtable\",\n",
    "    \"user\": \"3JePguGPZ9f8CHv.root\",\n",
    "    \"password\": \"DIkq8yg8wjXbAhqb\",\n",
    "    \"customJdbcDriverS3Path\": \"s3://spark-sql-test-nov23rd/mysql-connector-j-8.2.0.jar\",\n",
    "    \"customJdbcDriverClassName\": \"com.mysql.cj.jdbc.Driver\"}"
   ]
  },
  {
   "cell_type": "code",
   "execution_count": 9,
   "id": "bc269062-d58d-4182-8163-cb2758e95457",
   "metadata": {
    "execution": {
     "iopub.execute_input": "2023-12-12T10:05:52.912810Z",
     "iopub.status.busy": "2023-12-12T10:05:52.912356Z",
     "iopub.status.idle": "2023-12-12T10:06:06.394291Z",
     "shell.execute_reply": "2023-12-12T10:06:06.393491Z",
     "shell.execute_reply.started": "2023-12-12T10:05:52.912778Z"
    },
    "tags": []
   },
   "outputs": [
    {
     "data": {
      "application/vnd.jupyter.widget-view+json": {
       "model_id": "2fb05c6638374bc39365a5bb2130fcfa",
       "version_major": 2,
       "version_minor": 0
      },
      "text/plain": [
       "VBox()"
      ]
     },
     "metadata": {},
     "output_type": "display_data"
    },
    {
     "data": {
      "application/vnd.jupyter.widget-view+json": {
       "model_id": "",
       "version_major": 2,
       "version_minor": 0
      },
      "text/plain": [
       "FloatProgress(value=0.0, bar_style='info', description='Progress:', layout=Layout(height='25px', width='50%'),…"
      ]
     },
     "metadata": {},
     "output_type": "display_data"
    }
   ],
   "source": [
    "df.write.format(\"jdbc\").options(\n",
    "    driver=\"com.mysql.cj.jdbc.Driver\",\n",
    "    url=\"jdbc:mysql://gateway01.ap-southeast-1.prod.aws.tidbcloud.com:4000/test\",\n",
    "    dbtable=\"testtable1\",\n",
    "    user=\"3JePguGPZ9f8CHv.root\",\n",
    "    password=\"DIkq8yg8wjXbAhqb\").save()"
   ]
  },
  {
   "cell_type": "code",
   "execution_count": null,
   "id": "b41c3ef1-f7b8-4272-8b63-782a4e656dfa",
   "metadata": {},
   "outputs": [],
   "source": []
  }
 ],
 "metadata": {
  "kernelspec": {
   "display_name": "Python 3",
   "language": "python",
   "name": "python3"
  },
  "language_info": {
   "codemirror_mode": {
    "name": "python",
    "version": 3
   },
   "file_extension": ".py",
   "mimetype": "text/x-python",
   "name": "pyspark",
   "pygments_lexer": "python3"
  }
 },
 "nbformat": 4,
 "nbformat_minor": 5
}
